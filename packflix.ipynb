{
 "cells": [
  {
   "cell_type": "code",
   "execution_count": 1,
   "metadata": {},
   "outputs": [],
   "source": [
    "from pacflix import Pacflix"
   ]
  },
  {
   "cell_type": "code",
   "execution_count": 2,
   "metadata": {},
   "outputs": [
    {
     "name": "stdout",
     "output_type": "stream",
     "text": [
      "Your account successfully created, share this code \"Bagas\" to your friend to get some benefits!\n"
     ]
    }
   ],
   "source": [
    "bagas = Pacflix('Bagas')"
   ]
  },
  {
   "cell_type": "code",
   "execution_count": 3,
   "metadata": {},
   "outputs": [
    {
     "name": "stdout",
     "output_type": "stream",
     "text": [
      "Your account successfully created, share this code \"Dona\" to your friend to get some benefits!\n"
     ]
    }
   ],
   "source": [
    "dona = Pacflix('Dona')"
   ]
  },
  {
   "cell_type": "code",
   "execution_count": 10,
   "metadata": {},
   "outputs": [
    {
     "name": "stdout",
     "output_type": "stream",
     "text": [
      "Your account successfully created, share this code \"Reno\" to your friend to get some benefits!\n"
     ]
    }
   ],
   "source": [
    "reno = Pacflix('Reno')"
   ]
  },
  {
   "cell_type": "code",
   "execution_count": 4,
   "metadata": {},
   "outputs": [
    {
     "data": {
      "text/plain": [
       "['Bagas', 'Dona']"
      ]
     },
     "execution_count": 4,
     "metadata": {},
     "output_type": "execute_result"
    }
   ],
   "source": [
    "Pacflix.list_of_referral_code"
   ]
  },
  {
   "cell_type": "code",
   "execution_count": 5,
   "metadata": {},
   "outputs": [
    {
     "name": "stdout",
     "output_type": "stream",
     "text": [
      "List of Pacflix plan: \n",
      "1. Basic Plan\n",
      "SD, 1 device, Movie, Rp120.000,-\n",
      "\n",
      "2. Standard Plan\n",
      "HD, 2 device, Movie + Sports, Rp160.000,-\n",
      "\n",
      "3. Premium Plan\n",
      "UHD, 3 device, Movie + Sports + News, Rp200.000,-\n"
     ]
    }
   ],
   "source": [
    "bagas.list_plan()"
   ]
  },
  {
   "cell_type": "code",
   "execution_count": 14,
   "metadata": {},
   "outputs": [
    {
     "name": "stdout",
     "output_type": "stream",
     "text": [
      "Your current plan is Premium Plan\n",
      "Start subscribe at 2024-02-06 20:47:41.870718\n",
      "End subscribe at 2025-10-06 20:47:41.870718\n"
     ]
    }
   ],
   "source": [
    "bagas.check_plan()"
   ]
  },
  {
   "cell_type": "code",
   "execution_count": 7,
   "metadata": {},
   "outputs": [
    {
     "name": "stdout",
     "output_type": "stream",
     "text": [
      "You selected Standard Plan with total price 160000\n"
     ]
    }
   ],
   "source": [
    "bagas.purchase('Standard Plan', None, 20)"
   ]
  },
  {
   "cell_type": "code",
   "execution_count": 9,
   "metadata": {},
   "outputs": [
    {
     "name": "stdout",
     "output_type": "stream",
     "text": [
      "You selected Standard Plan with referral code, the price will be 153600.0\n"
     ]
    }
   ],
   "source": [
    "dona.purchase('Standard Plan', 'Bagas', 20)"
   ]
  },
  {
   "cell_type": "code",
   "execution_count": 10,
   "metadata": {},
   "outputs": [
    {
     "name": "stdout",
     "output_type": "stream",
     "text": [
      "Your current plan is Standard Plan\n",
      "Start subscribe at 2024-02-06 20:48:23.819146\n",
      "End subscribe at 2025-10-06 20:48:23.819146\n"
     ]
    }
   ],
   "source": [
    "dona.check_plan()"
   ]
  },
  {
   "cell_type": "code",
   "execution_count": 11,
   "metadata": {},
   "outputs": [
    {
     "name": "stdout",
     "output_type": "stream",
     "text": [
      "Your referral code is invalid!\n"
     ]
    }
   ],
   "source": [
    "reno.purchase('Premium Plan', 'Dani', 20)"
   ]
  },
  {
   "cell_type": "code",
   "execution_count": 15,
   "metadata": {},
   "outputs": [
    {
     "name": "stdout",
     "output_type": "stream",
     "text": [
      "You are in the highest tier, cannot upgrade subscription!\n"
     ]
    }
   ],
   "source": [
    "bagas.upgrade_plan('Premium Plan')"
   ]
  }
 ],
 "metadata": {
  "kernelspec": {
   "display_name": "Python 3",
   "language": "python",
   "name": "python3"
  },
  "language_info": {
   "codemirror_mode": {
    "name": "ipython",
    "version": 3
   },
   "file_extension": ".py",
   "mimetype": "text/x-python",
   "name": "python",
   "nbconvert_exporter": "python",
   "pygments_lexer": "ipython3",
   "version": "3.9.2"
  }
 },
 "nbformat": 4,
 "nbformat_minor": 2
}
